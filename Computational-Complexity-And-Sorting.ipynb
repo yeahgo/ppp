{
 "cells": [
  {
   "cell_type": "markdown",
   "metadata": {},
   "source": [
    "**Q**: Build a function named `get_answer` that returns a dictionary that maps function names (strings) to Big-O values (also strings) for those functions. The valid Big-O options are:\n",
    "\n",
    "- 'O(1)'\n",
    "- 'O(N)'\n",
    "- 'O(LOG2(N))'\n",
    "- 'O(N * LOG2(N))'\n",
    "- 'O(N^2)'\n",
    "- 'O(inf)'  # This is Big-O of infinity\n",
    "\n",
    "For example, if given the following function...\n",
    "\n",
    "```python\n",
    "def return_true(data):\n",
    "    return True\n",
    "```\n",
    "\n",
    "... the correct `get_answer` function would be ...\n",
    "\n",
    "```python\n",
    "def get_answer():\n",
    "    return {\n",
    "        'return_true': 'O(1)',\n",
    "        'function_one': \n",
    "        \n",
    "    }\n",
    "```\n",
    "\n",
    "Determine the Big-O value for the following functions.\n",
    "\n",
    "```python\n",
    "def function_one(list_):\n",
    "    for pass_ in range(len(list_) - 1, 0, -1):\n",
    "        for i in range(pass_):\n",
    "            if list_[i] > list_[i+1]:\n",
    "                temp = list_[i]\n",
    "                list_[i] = list_[i+1]\n",
    "                list_[i+1] = temp\n",
    "\n",
    "\n",
    "def function_two(list_):\n",
    "    if len(list_) > 1:\n",
    "        midpoint_index = len(list_) // 2\n",
    "        left_half = list_[:midpoint_index]\n",
    "        right_half = list_[midpoint_index:]\n",
    "\n",
    "        function_two(left_half)\n",
    "        function_two(right_half)\n",
    "\n",
    "        left_half_pos = 0\n",
    "        right_half_pos = 0\n",
    "        new_position = 0\n",
    "        while left_half_pos < len(left_half) and right_half_pos < len(right_half):\n",
    "            if left_half[left_half_pos] < right_half[right_half_pos]:\n",
    "                list_[new_position] = left_half[left_half_pos]\n",
    "                left_half_pos += 1\n",
    "            else:\n",
    "                list_[new_position] = right_half[right_half_pos]\n",
    "                right_half_pos += 1\n",
    "\n",
    "            new_position += 1\n",
    "\n",
    "        # empty remaning items in left list\n",
    "        while left_half_pos < len(left_half):\n",
    "            list_[new_position] = left_half[left_half_pos]\n",
    "            left_half_pos += 1\n",
    "            new_position += 1\n",
    "\n",
    "        # empty remaning items in right list\n",
    "        while right_half_pos < len(right_half):\n",
    "            list_[new_position]=right_half[right_half_pos]\n",
    "            right_half_pos += 1\n",
    "            new_position += 1\n",
    "            \n",
    "\n",
    "def function_three(x, max_):\n",
    "    assert 0 < x < max_\n",
    "    while x < max_:\n",
    "        x *= 2\n",
    "\n",
    "\n",
    "def function_four(x):\n",
    "    for i in range(x):\n",
    "        for j in range(x - i):\n",
    "            for k in range(x - j):\n",
    "                if i + j + k == 0:\n",
    "                    break\n",
    "            if i + j == 0:\n",
    "                break\n",
    "        if i == 0:\n",
    "            break\n",
    "    return x + 1    \n",
    "```\n",
    "\n",
    "[2 points]"
   ]
  },
  {
   "cell_type": "code",
   "execution_count": null,
   "metadata": {
    "collapsed": true,
    "deletable": false,
    "nbgrader": {
     "checksum": "17104cf7049634816f78541446d018f8",
     "grade": false,
     "grade_id": "cell-f4d3188b8d4bbc53",
     "locked": false,
     "schema_version": 1,
     "solution": true
    }
   },
   "outputs": [],
   "source": [
    "def get_answer():\n",
    "    # YOUR CODE HERE\n",
    "    raise NotImplementedError()"
   ]
  },
  {
   "cell_type": "code",
   "execution_count": null,
   "metadata": {
    "collapsed": true,
    "deletable": false,
    "editable": false,
    "nbgrader": {
     "checksum": "e24b0d0d7a545d021f4665d8f0151f80",
     "grade": true,
     "grade_id": "cell-db691e7cf24a237a",
     "locked": true,
     "points": 0.5,
     "schema_version": 1,
     "solution": false
    }
   },
   "outputs": [],
   "source": []
  },
  {
   "cell_type": "code",
   "execution_count": null,
   "metadata": {
    "collapsed": true,
    "deletable": false,
    "editable": false,
    "nbgrader": {
     "checksum": "897bbedb5b0a97648da6cbca390c40f8",
     "grade": true,
     "grade_id": "cell-e42ebb8a50871384",
     "locked": true,
     "points": 0.5,
     "schema_version": 1,
     "solution": false
    }
   },
   "outputs": [],
   "source": []
  },
  {
   "cell_type": "code",
   "execution_count": null,
   "metadata": {
    "collapsed": true,
    "deletable": false,
    "editable": false,
    "nbgrader": {
     "checksum": "739932633b0f3ca80064301eb528bcfe",
     "grade": true,
     "grade_id": "cell-5cfbbdefbb709bdb",
     "locked": true,
     "points": 0.5,
     "schema_version": 1,
     "solution": false
    }
   },
   "outputs": [],
   "source": []
  },
  {
   "cell_type": "code",
   "execution_count": null,
   "metadata": {
    "collapsed": true,
    "deletable": false,
    "editable": false,
    "nbgrader": {
     "checksum": "22e07385ffa0fc6c20cabec14aea4d89",
     "grade": true,
     "grade_id": "cell-3ad938008543e65c",
     "locked": true,
     "points": 0.5,
     "schema_version": 1,
     "solution": false
    }
   },
   "outputs": [],
   "source": []
  },
  {
   "cell_type": "markdown",
   "metadata": {},
   "source": [
    "---"
   ]
  },
  {
   "cell_type": "markdown",
   "metadata": {},
   "source": [
    "**Q**: Complete the rest of the function `insertion_sort`. All sorting operations must be done on the list passed in. No new lists can be created. The function does not need to return the sorted list since the sorting will be done in-place (ie. using the same memory as the original list). You can not use the `.append` or `.extend` methods on a list. You must use the insertion sort algorithm.\n",
    "\n",
    "[2 points]"
   ]
  },
  {
   "cell_type": "code",
   "execution_count": null,
   "metadata": {
    "collapsed": true,
    "deletable": false,
    "nbgrader": {
     "checksum": "f006f6dceac9f981b0e191eb78fc98ed",
     "grade": false,
     "grade_id": "cell-f6602f5580068335",
     "locked": false,
     "schema_version": 1,
     "solution": true
    }
   },
   "outputs": [],
   "source": [
    "def insertion_sort(list_):\n",
    "    for index in range(1, len(list_)):\n",
    "        value = list_[index]\n",
    "        position = index\n",
    "\n",
    "        # YOUR CODE HERE\n",
    "        raise NotImplementedError()\n",
    "\n",
    "        list_[position] = value"
   ]
  },
  {
   "cell_type": "code",
   "execution_count": null,
   "metadata": {
    "collapsed": true,
    "deletable": false,
    "editable": false,
    "nbgrader": {
     "checksum": "361fde65f99fb67eff40f493d99c4432",
     "grade": true,
     "grade_id": "cell-944f85f678a02750",
     "locked": true,
     "points": 0.5,
     "schema_version": 1,
     "solution": false
    }
   },
   "outputs": [],
   "source": []
  },
  {
   "cell_type": "code",
   "execution_count": null,
   "metadata": {
    "collapsed": true,
    "deletable": false,
    "editable": false,
    "nbgrader": {
     "checksum": "1b3f3172f942b266152f57b32973eeed",
     "grade": true,
     "grade_id": "cell-f202f2670cd132fd",
     "locked": true,
     "points": 1.5,
     "schema_version": 1,
     "solution": false
    }
   },
   "outputs": [],
   "source": []
  },
  {
   "cell_type": "markdown",
   "metadata": {},
   "source": [
    "---"
   ]
  },
  {
   "cell_type": "markdown",
   "metadata": {},
   "source": [
    "**Q**: Complete the function `binary_search`. Return `True` if `item` is in `sorted_list` and `False` if not. Your function must implement the binary_search algorithm.\n",
    "\n",
    "[2 points]"
   ]
  },
  {
   "cell_type": "code",
   "execution_count": null,
   "metadata": {
    "collapsed": true,
    "deletable": false,
    "nbgrader": {
     "checksum": "8cbd443322561fd1fad6d7a967b97e13",
     "grade": false,
     "grade_id": "cell-acf00b5f7ee7b460",
     "locked": false,
     "schema_version": 1,
     "solution": true
    }
   },
   "outputs": [],
   "source": [
    "def binary_search(item, sorted_list):\n",
    "    # YOUR CODE HERE\n",
    "    raise NotImplementedError()"
   ]
  },
  {
   "cell_type": "code",
   "execution_count": null,
   "metadata": {
    "collapsed": true,
    "deletable": false,
    "editable": false,
    "nbgrader": {
     "checksum": "1dc369c8f19069f6033c461646b1b340",
     "grade": true,
     "grade_id": "cell-adf4b387b1291f65",
     "locked": true,
     "points": 0.5,
     "schema_version": 1,
     "solution": false
    }
   },
   "outputs": [],
   "source": []
  },
  {
   "cell_type": "code",
   "execution_count": null,
   "metadata": {
    "collapsed": true,
    "deletable": false,
    "editable": false,
    "nbgrader": {
     "checksum": "759fb3e70736e8db70c2ea9de1e99536",
     "grade": true,
     "grade_id": "cell-7562392f1adac552",
     "locked": true,
     "points": 0.5,
     "schema_version": 1,
     "solution": false
    }
   },
   "outputs": [],
   "source": []
  },
  {
   "cell_type": "code",
   "execution_count": null,
   "metadata": {
    "collapsed": true,
    "deletable": false,
    "editable": false,
    "nbgrader": {
     "checksum": "d5281b103e0fd08333aedf4990a2ebd3",
     "grade": true,
     "grade_id": "cell-0eec1e0f984bf424",
     "locked": true,
     "points": 0,
     "schema_version": 1,
     "solution": false
    }
   },
   "outputs": [],
   "source": []
  },
  {
   "cell_type": "code",
   "execution_count": null,
   "metadata": {
    "collapsed": true,
    "deletable": false,
    "editable": false,
    "nbgrader": {
     "checksum": "cd66eb3446bee0a9d675d85146802cf7",
     "grade": true,
     "grade_id": "cell-65abe2c0f3e9af4f",
     "locked": true,
     "points": 1,
     "schema_version": 1,
     "solution": false
    }
   },
   "outputs": [],
   "source": []
  }
 ],
 "metadata": {
  "kernelspec": {
   "display_name": "Python 3",
   "language": "python",
   "name": "python3"
  },
  "language_info": {
   "codemirror_mode": {
    "name": "ipython",
    "version": 3
   },
   "file_extension": ".py",
   "mimetype": "text/x-python",
   "name": "python",
   "nbconvert_exporter": "python",
   "pygments_lexer": "ipython3",
   "version": "3.6.5"
  }
 },
 "nbformat": 4,
 "nbformat_minor": 2
}
